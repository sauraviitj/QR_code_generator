{
  "nbformat": 4,
  "nbformat_minor": 0,
  "metadata": {
    "colab": {
      "provenance": []
    },
    "kernelspec": {
      "name": "python3",
      "display_name": "Python 3"
    },
    "language_info": {
      "name": "python"
    }
  },
  "cells": [
    {
      "cell_type": "code",
      "execution_count": null,
      "metadata": {
        "colab": {
          "base_uri": "https://localhost:8080/"
        },
        "id": "jlnlCmajHFVM",
        "outputId": "034e9b06-3aab-493b-da01-b1059ed0b778"
      },
      "outputs": [
        {
          "output_type": "stream",
          "name": "stdout",
          "text": [
            "Requirement already satisfied: pandas in /usr/local/lib/python3.10/dist-packages (2.2.2)\n",
            "Requirement already satisfied: openpyxl in /usr/local/lib/python3.10/dist-packages (3.1.5)\n",
            "Collecting qrcode[pil]\n",
            "  Downloading qrcode-8.0-py3-none-any.whl.metadata (17 kB)\n",
            "Requirement already satisfied: numpy>=1.22.4 in /usr/local/lib/python3.10/dist-packages (from pandas) (1.26.4)\n",
            "Requirement already satisfied: python-dateutil>=2.8.2 in /usr/local/lib/python3.10/dist-packages (from pandas) (2.8.2)\n",
            "Requirement already satisfied: pytz>=2020.1 in /usr/local/lib/python3.10/dist-packages (from pandas) (2024.2)\n",
            "Requirement already satisfied: tzdata>=2022.7 in /usr/local/lib/python3.10/dist-packages (from pandas) (2024.2)\n",
            "Requirement already satisfied: pillow>=9.1.0 in /usr/local/lib/python3.10/dist-packages (from qrcode[pil]) (10.4.0)\n",
            "Requirement already satisfied: et-xmlfile in /usr/local/lib/python3.10/dist-packages (from openpyxl) (1.1.0)\n",
            "Requirement already satisfied: six>=1.5 in /usr/local/lib/python3.10/dist-packages (from python-dateutil>=2.8.2->pandas) (1.16.0)\n",
            "Downloading qrcode-8.0-py3-none-any.whl (45 kB)\n",
            "\u001b[2K   \u001b[90m━━━━━━━━━━━━━━━━━━━━━━━━━━━━━━━━━━━━━━━━\u001b[0m \u001b[32m45.7/45.7 kB\u001b[0m \u001b[31m1.6 MB/s\u001b[0m eta \u001b[36m0:00:00\u001b[0m\n",
            "\u001b[?25hInstalling collected packages: qrcode\n",
            "Successfully installed qrcode-8.0\n"
          ]
        }
      ],
      "source": [
        "pip install pandas qrcode[pil] openpyxl\n"
      ]
    },
    {
      "cell_type": "markdown",
      "source": [
        "#QR Code stagnant size"
      ],
      "metadata": {
        "id": "gC3XCUN9RLdO"
      }
    },
    {
      "cell_type": "code",
      "source": [
        "import pandas as pd\n",
        "import qrcode\n",
        "from openpyxl import Workbook\n",
        "from openpyxl.drawing.image import Image\n",
        "\n",
        "# Load the Excel file\n",
        "input_file = '/content/Asset Register.xlsx'\n",
        "output_file = 'output.xlsx'\n",
        "\n",
        "# Read the Excel file\n",
        "df = pd.read_excel(input_file)\n",
        "\n",
        "\n",
        "wb = Workbook()\n",
        "ws = wb.active\n",
        "\n",
        "\n",
        "ws.append(list(df.columns) + ['QR Code'])\n",
        "\n",
        "# Generate QR codes and save to the new workbook\n",
        "for index, row in df.iterrows():\n",
        "\n",
        "    data = f\"{row['Asset_No']} {row['Asset_Type']} {row['Make_&_Model']} {row['Company_Serial_No']}\"\n",
        "\n",
        "    # Generate QR code\n",
        "    qr = qrcode.QRCode(\n",
        "        version=1,\n",
        "        error_correction=qrcode.constants.ERROR_CORRECT_L,\n",
        "        box_size=10,\n",
        "        border=4,\n",
        "    )\n",
        "    qr.add_data(data)\n",
        "    qr.make(fit=True)\n",
        "\n",
        "    # Create an image from the QR Code instance\n",
        "    img = qr.make_image(fill='black', back_color='white')\n",
        "\n",
        "    # Save the QR code image\n",
        "    img_file = f'qr_code_{index}.png'  # Name for the QR code image file\n",
        "    img.save(img_file)\n",
        "\n",
        "\n",
        "    ws.append(row.tolist() + [img_file])\n",
        "\n",
        "# Save the new workbook\n",
        "wb.save(output_file)\n",
        "\n",
        "# Add images to the new Excel file row-wise\n",
        "for index in range(len(df)):\n",
        "    img_file = f'qr_code_{index}.png'\n",
        "    img = Image(img_file)\n",
        "\n",
        "    img.anchor = f'E{index + 2}'\n",
        "    ws.add_image(img)\n",
        "\n",
        "# Save the final workbook with QR codes\n",
        "wb.save(output_file)\n",
        "\n",
        "print(f\"QR codes generated and saved in {output_file}.\")"
      ],
      "metadata": {
        "colab": {
          "base_uri": "https://localhost:8080/"
        },
        "id": "-B1sIbZ8HLN1",
        "outputId": "0a34b4d0-1b34-4f2d-9888-829c65c21d4e"
      },
      "execution_count": null,
      "outputs": [
        {
          "output_type": "stream",
          "name": "stdout",
          "text": [
            "QR codes generated and saved in output.xlsx.\n"
          ]
        }
      ]
    },
    {
      "cell_type": "markdown",
      "source": [
        "#QR code resizable size"
      ],
      "metadata": {
        "id": "4j3XA4f0RPIe"
      }
    },
    {
      "cell_type": "code",
      "source": [
        "import pandas as pd\n",
        "import qrcode\n",
        "from openpyxl import Workbook\n",
        "from openpyxl.drawing.image import Image\n",
        "\n",
        "# Load the Excel file\n",
        "input_file = '/content/Asset Register.xlsx'\n",
        "output_file = 'output.xlsx'\n",
        "# Read the Excel file\n",
        "df = pd.read_excel(input_file)\n",
        "\n",
        "# Create a new Workbook\n",
        "wb = Workbook()\n",
        "ws = wb.active\n",
        "\n",
        "# Set headers\n",
        "ws.append(list(df.columns) + ['QR Code'])\n",
        "\n",
        "# Generate QR codes and save to the new workbook\n",
        "for index, row in df.iterrows():\n",
        "    # Prepare the data with headers\n",
        "    data = \"\\n\".join([f\"{col}: {row[col]}\" for col in df.columns])\n",
        "\n",
        "    # Generate QR code\n",
        "    qr = qrcode.QRCode(\n",
        "        version=1,\n",
        "        error_correction=qrcode.constants.ERROR_CORRECT_L,\n",
        "        box_size=20,\n",
        "        border=4,\n",
        "    )\n",
        "    qr.add_data(data)\n",
        "    qr.make(fit=True)\n",
        "\n",
        "    # Create an image from the QR Code instance\n",
        "    img = qr.make_image(fill='black', back_color='white')\n",
        "\n",
        "    # Save the QR code image\n",
        "    img_file = f'qr_code_{index}.png'  # Name for the QR code image file\n",
        "    img.save(img_file)\n",
        "\n",
        "    # Append the data to the new workbook without image filename\n",
        "    ws.append(row.tolist())  # Only append the original data\n",
        "\n",
        "# Save the new workbook\n",
        "wb.save(output_file)\n",
        "\n",
        "# Add images to the new Excel file row-wise\n",
        "for index in range(len(df)):\n",
        "    img_file = f'qr_code_{index}.png'\n",
        "    img = Image(img_file)\n",
        "\n",
        "    # Set the size of the QR code image (adjust width and height as needed)\n",
        "    img.width = 75  # Set width to 50 pixels\n",
        "    img.height = 75  # Set height to 50 pixels\n",
        "\n",
        "    # Positioning the image (column index for QR Code is 'E', adjust if necessary)\n",
        "    img.anchor = f'E{index + 2}'  # Assuming QR code is in column E\n",
        "    ws.add_image(img)\n",
        "\n",
        "# Save the final workbook with QR codes\n",
        "wb.save(output_file)\n",
        "\n",
        "print(f\"QR codes generated and saved in {output_file}.\")\n"
      ],
      "metadata": {
        "colab": {
          "base_uri": "https://localhost:8080/"
        },
        "id": "ha1nY-p9IitW",
        "outputId": "2aa445da-9fe4-4194-8d7e-647dea0dc50a"
      },
      "execution_count": null,
      "outputs": [
        {
          "output_type": "stream",
          "name": "stdout",
          "text": [
            "QR codes generated and saved in output.xlsx.\n"
          ]
        }
      ]
    }
  ]
}